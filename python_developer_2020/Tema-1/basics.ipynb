{
 "cells": [
  {
   "cell_type": "code",
   "execution_count": 31,
   "metadata": {},
   "outputs": [
    {
     "output_type": "stream",
     "name": "stdout",
     "text": [
      "8\n0\n1\n1\n2\ndavid5\nto me or not to me\ndavid\n[]\n['a', 'b', 'c', 'd', 'e', 'f', [1, 2, 3], {'fruta': 'manzana', 'precio': 5}]\n['a', 'b', 'c', 'd', 'e', 'f', [0, 2, 3], {'fruta': 'manzana', 'precio': 5}]\n['x', 'b', 'c', 'd', 'e', 'f', [0, 2, 3], {'fruta': 'manzana', 'precio': 5}]\n1\n2\n3\n[4, 5, 6, 7, 8]\n9\n{'name': 'David', 'age': 36, 'hobbies': ['read', 'play'], 'job': 'developer'}\n[4, 5]\nset()\n{4, 5}\nTrue\nresult can be 6 r 7\n1\nTrue\n140548321479056\n140548321476976\n"
     ]
    }
   ],
   "source": [
    "#PYTHON BASICS\n",
    "\n",
    "# numbers\n",
    "\n",
    "# 1 - integer & float \n",
    "\n",
    "    # para hacer potencias de un número\n",
    "\n",
    "print(2**3) # 8\n",
    "\n",
    "    # Para obtener la parte entera de una división decimal //\n",
    "\n",
    "print(2//4 ) # 0\n",
    "print(5//4 ) #  1\n",
    "\n",
    "    # Para obtener el resto de una división el módulo %\n",
    "\n",
    "print(5 % 4) # 1\n",
    "print(6 % 4 )# 2\n",
    "\n",
    "    # math functions\n",
    "\n",
    "    #round\n",
    "round(3.1) # 1 \n",
    "round(3.9) #4\n",
    "    #abs\n",
    "abs(3)  # 3 \n",
    "abs(-3) # 3 \n",
    "\n",
    "bin(5)\n",
    "int('0b101', 2)\n",
    "\n",
    "    # type conversion\n",
    "\n",
    "number = 5\n",
    "name = 'david'\n",
    "#print(name+number) # eso da error\n",
    "print(name+str(number))\n",
    "\n",
    "quote= 'to be or not to be'\n",
    "print(quote.replace('be','me'))\n",
    "\n",
    "# execise\n",
    "import datetime\n",
    "#birth_year = int(input('que año naciste?'))\n",
    "\n",
    "current_year =  datetime.datetime.now().year\n",
    "\n",
    "#print(current_year-birth_year)\n",
    "\n",
    "#-----------\n",
    "\n",
    "name = 'david'\n",
    "\n",
    "name2 = name[:2]\n",
    "\n",
    "print(name)\n",
    "\n",
    "list2 = ['david','martin','vergues']\n",
    "list2.clear()\n",
    "print(list2) \n",
    "\n",
    "#----------------\n",
    "\n",
    "list5 =  ['a','b','c','d','e','f', [1,2,3], {'fruta':'manzana','precio':5}]\n",
    "list6 = list5.copy()\n",
    "print(list5)\n",
    "list6[6][0]=0\n",
    "list6[0]='x'\n",
    "print(list5)\n",
    "print(list6)\n",
    "\n",
    "new_list = list(range(100))\n",
    "new_list\n",
    "\n",
    "a,b,c, *other, d = [1,2,3,4,5,6,7,8,9]\n",
    "\n",
    "print(a)\n",
    "print(b)\n",
    "print(c)\n",
    "print(other)\n",
    "print(d)\n",
    "\n",
    "#----------- dictionaries\n",
    "\n",
    "user = {\n",
    "    'name': 'David',\n",
    "    'age' : 36,\n",
    "    'hobbies': ['read', 'play'],\n",
    "}\n",
    "\n",
    "user.update( {'job':'developer'} )\n",
    "print(user) # {'name': 'David', 'age': 37, 'hobbies': ['read', 'play']}\n",
    "\n",
    "# --------- tuples\n",
    "\n",
    "t = ('one',2,3, 2) \n",
    "new_tupple = t[1:3]\n",
    "new_tupple #\n",
    "\n",
    "x,y,z,*others= (1,2,3,4,5) \n",
    "\n",
    "print(others) #[4, 5]\n",
    "\n",
    "# ---------- set\n",
    "\n",
    "s = set(\"paralel\")\n",
    "s.add('z')\n",
    "s # {'a', 'e', 'l', 'p', 'r'}\n",
    "\n",
    "my_set = {4,5}\n",
    "your_set = {4,5,6,7,8,9,10}\n",
    "\n",
    "print(my_set.difference(your_set))\n",
    "\n",
    "new_set = my_set | your_set\n",
    "new_set\n",
    "print(my_set & your_set) # {4,5}\n",
    "print(your_set.issuperset(my_set))\n",
    "\n",
    "#---------- if elif else\n",
    "\n",
    "result = 6\n",
    "\n",
    "if result<2 :\n",
    "    print('it < 2')\n",
    "elif result>2 and result < 5:\n",
    "    print('result is between 2 and 5')\n",
    "elif result ==5 :\n",
    "    print('result is equal to 5')\n",
    "elif result == 6 or result== 7:\n",
    "    print('result can be 6 r 7')\n",
    "else :\n",
    "    print('result is bigger than 2')\n",
    "\n",
    "\n",
    "\n"
   ]
  },
  {
   "cell_type": "code",
   "execution_count": 60,
   "metadata": {},
   "outputs": [
    {
     "output_type": "stream",
     "name": "stdout",
     "text": [
      "False\n140548309623184\n140548309623888\n"
     ]
    }
   ],
   "source": [
    "\n",
    "\n",
    "x =1000\n",
    "y = 1000\n",
    "\n",
    "print(x is y)\n",
    "print(id(x))\n",
    "print(id(y))"
   ]
  },
  {
   "cell_type": "code",
   "execution_count": 4,
   "metadata": {},
   "outputs": [
    {
     "output_type": "stream",
     "name": "stdout",
     "text": [
      " 10  20  30 30\n"
     ]
    }
   ],
   "source": [
    "d = (10, 20, 30)\n",
    "\n",
    "for x in d: # values()\n",
    "    print(f' {x} ', end='') \n",
    "print(x)"
   ]
  },
  {
   "cell_type": "code",
   "execution_count": 33,
   "metadata": {},
   "outputs": [
    {
     "output_type": "stream",
     "name": "stdout",
     "text": [
      "h-o-l-a- -d-a-v-i-d\n"
     ]
    }
   ],
   "source": [
    "nombre= 'hola david'\n",
    "\n",
    "for item in nombre:\n",
    "    pass\n",
    "    #print(item,sep='-', end=\"\")\n",
    "\n",
    "print('-'.join(nombre))"
   ]
  },
  {
   "cell_type": "code",
   "execution_count": 18,
   "metadata": {},
   "outputs": [
    {
     "output_type": "stream",
     "name": "stdout",
     "text": [
      "   *   \n  ***  \n ***** \n*******\n   *   \n   *   \n"
     ]
    }
   ],
   "source": [
    "picture = [\n",
    "  [0,0,0,1,0,0,0],\n",
    "  [0,0,1,1,1,0,0],\n",
    "  [0,1,1,1,1,1,0],\n",
    "  [1,1,1,1,1,1,1],\n",
    "  [0,0,0,1,0,0,0],\n",
    "  [0,0,0,1,0,0,0]\n",
    "]\n",
    "\n",
    "for item in picture:\n",
    "    for pos in item:\n",
    "        if pos == 0:\n",
    "            print(' ',end='')\n",
    "        else:\n",
    "            print('*',end='')\n",
    "    print('')"
   ]
  },
  {
   "cell_type": "code",
   "execution_count": 39,
   "metadata": {},
   "outputs": [
    {
     "output_type": "stream",
     "name": "stdout",
     "text": [
      "['b', 'n']\n"
     ]
    }
   ],
   "source": [
    "some_list = ['a','b','c','b','d','m','n','n']\n",
    "duplicated = []\n",
    "\n",
    "for letter in some_list:\n",
    "    if some_list.count(letter)>1:\n",
    "        if letter not in duplicated:\n",
    "            duplicated.append(letter)\n",
    "print(duplicated)"
   ]
  },
  {
   "cell_type": "code",
   "execution_count": 4,
   "metadata": {},
   "outputs": [
    {
     "output_type": "stream",
     "name": "stdout",
     "text": [
      "Hello\n"
     ]
    }
   ],
   "source": [
    "def name_function(a='david'):\n",
    "    '''\n",
    "    \n",
    "    Info: Information about the function\n",
    "    INPUT: no input...\n",
    "    OUTPUT: Hello\n",
    "    '''\n",
    "    print('Hello')\n",
    "name_function()"
   ]
  },
  {
   "cell_type": "code",
   "execution_count": 9,
   "metadata": {},
   "outputs": [
    {
     "output_type": "stream",
     "name": "stdout",
     "text": [
      "10\n"
     ]
    }
   ],
   "source": [
    "def highest_even(li):\n",
    "    return max([num for num in li if num % 2 == 0 ])\n",
    "\n",
    "\n",
    "print(highest_even([10,1,2,3,4,8]))"
   ]
  },
  {
   "cell_type": "code",
   "execution_count": 2,
   "metadata": {},
   "outputs": [
    {
     "output_type": "stream",
     "name": "stdout",
     "text": [
      "3\n"
     ]
    }
   ],
   "source": [
    "total = 0\n",
    "\n",
    "def count():\n",
    "  global total\n",
    "  total+=1\n",
    "  return total\n",
    "\n",
    "count()\n",
    "count()\n",
    "print(count()) #3"
   ]
  },
  {
   "cell_type": "code",
   "execution_count": 3,
   "metadata": {},
   "outputs": [
    {
     "output_type": "stream",
     "name": "stdout",
     "text": [
      "defaultdict(<class 'int'>, {'upper': 4, 'lower': 33})\n"
     ]
    }
   ],
   "source": [
    "from collections import defaultdict\n",
    "\n",
    "count = defaultdict(int)\n",
    "\n",
    "text='Hello Mr. Rogers, how are you this fine Tuesday?'\n",
    "\n",
    "for letter in text:\n",
    "    if letter.isupper():\n",
    "        count['upper']+=1\n",
    "    elif letter.islower():\n",
    "        count['lower']+=1\n",
    "    else:\n",
    "        pass\n",
    "print(count)\n",
    "\n"
   ]
  },
  {
   "cell_type": "code",
   "execution_count": 6,
   "metadata": {},
   "outputs": [
    {
     "output_type": "execute_result",
     "data": {
      "text/plain": [
       "'david'"
      ]
     },
     "metadata": {},
     "execution_count": 6
    }
   ],
   "source": [
    "s = \"david\"\n",
    "\n",
    "text = ''.join((s.split()))\n",
    "text"
   ]
  },
  {
   "cell_type": "code",
   "execution_count": 15,
   "metadata": {},
   "outputs": [
    {
     "output_type": "execute_result",
     "data": {
      "text/plain": [
       "True"
      ]
     },
     "metadata": {},
     "execution_count": 15
    }
   ],
   "source": [
    "s = \"The quick brown fox jumps over the lazy dog\"\n",
    "\n",
    "s_unique = set(''.join(s.split()).lower())\n",
    "\n",
    "s_letters = list(s_unique)\n",
    "\n",
    "r = all(element in s_letters for element in 'abcdefghijklmnopqrstuvwxyz')\n",
    "\n",
    "\n"
   ]
  },
  {
   "cell_type": "code",
   "execution_count": 31,
   "metadata": {},
   "outputs": [
    {
     "output_type": "stream",
     "name": "stdout",
     "text": [
      "Counter({'a': 4, 'b': 4, 'c': 3})\n['a', 'a', 'a', 'a', 'b', 'b', 'b', 'b', 'c', 'c', 'c']\n"
     ]
    }
   ],
   "source": [
    "from collections import Counter\n",
    "\n",
    "iterable_obj = 'aaaaabbbbbccc'\n",
    "count = Counter(iterable_obj)\n",
    "\n",
    "count.subtract({'a':1,'b':1})\n",
    "\n",
    "print(count)\n",
    "print(list(count.elements()))"
   ]
  },
  {
   "cell_type": "code",
   "execution_count": 26,
   "metadata": {},
   "outputs": [
    {
     "output_type": "stream",
     "name": "stdout",
     "text": [
      "['david', 'david', 'martin', 'martin']\n"
     ]
    }
   ],
   "source": [
    "\n",
    "\n",
    "count = Counter({'david':2,'martin':2})\n",
    "print(list(count.elements()))"
   ]
  },
  {
   "cell_type": "code",
   "execution_count": 45,
   "metadata": {},
   "outputs": [
    {
     "output_type": "stream",
     "name": "stdout",
     "text": [
      "\n"
     ]
    }
   ],
   "source": [
    "from collections import defaultdict\n",
    "\n",
    "nums = defaultdict(str)\n",
    "nums['one'] = 'h'\n",
    "nums['two'] = 'j'\n",
    "\n",
    "print((nums['three'])) # ''"
   ]
  }
 ],
 "metadata": {
  "kernelspec": {
   "name": "python3",
   "display_name": "Python 3.7.6 64-bit ('base': conda)",
   "metadata": {
    "interpreter": {
     "hash": "ec4f1c395c9060a2f4933d56a58278157b2fbfb1d142affcb202d55b2721a26e"
    }
   }
  },
  "language_info": {
   "codemirror_mode": {
    "name": "ipython",
    "version": 3
   },
   "file_extension": ".py",
   "mimetype": "text/x-python",
   "name": "python",
   "nbconvert_exporter": "python",
   "pygments_lexer": "ipython3",
   "version": "3.7.6-final"
  }
 },
 "nbformat": 4,
 "nbformat_minor": 2
}