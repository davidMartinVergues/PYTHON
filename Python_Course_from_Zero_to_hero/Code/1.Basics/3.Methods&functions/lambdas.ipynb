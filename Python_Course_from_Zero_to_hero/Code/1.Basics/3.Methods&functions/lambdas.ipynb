{
 "cells": [
  {
   "cell_type": "code",
   "execution_count": 2,
   "metadata": {},
   "outputs": [],
   "source": [
    "def square(num):\n",
    "    return num**2"
   ]
  },
  {
   "cell_type": "code",
   "execution_count": 3,
   "metadata": {},
   "outputs": [],
   "source": [
    "my_nums = [1,2,3,4,5]"
   ]
  },
  {
   "cell_type": "code",
   "execution_count": 34,
   "metadata": {
    "tags": []
   },
   "outputs": [
    {
     "output_type": "execute_result",
     "data": {
      "text/plain": "['D', 'L', 'EVEN']"
     },
     "metadata": {},
     "execution_count": 34
    }
   ],
   "source": [
    "my_names = ['David','Laura','Nuri']\n",
    "\n",
    "def splicer(name):\n",
    "    if len(name)%2== 0:\n",
    "        return 'EVEN'\n",
    "    else:\n",
    "        return name[0]\n",
    "\n",
    "list(map(splicer, my_names))\n",
    "\n",
    "\n"
   ]
  },
  {
   "cell_type": "code",
   "execution_count": 35,
   "metadata": {},
   "outputs": [
    {
     "output_type": "execute_result",
     "data": {
      "text/plain": "[2, 4, 6, 8, 10]"
     },
     "metadata": {},
     "execution_count": 35
    }
   ],
   "source": [
    "myNums = [1,2,3,4,5,6,7,8,9,10]\n",
    "\n",
    "def check_even(num):\n",
    "    return num%2 == 0\n",
    "\n",
    "list(filter(check_even,myNums))\n"
   ]
  }
 ],
 "metadata": {
  "kernelspec": {
   "display_name": "Python 3",
   "language": "python",
   "name": "python3"
  },
  "language_info": {
   "codemirror_mode": {
    "name": "ipython",
    "version": 3
   },
   "file_extension": ".py",
   "mimetype": "text/x-python",
   "name": "python",
   "nbconvert_exporter": "python",
   "pygments_lexer": "ipython3",
   "version": "3.7.6-final"
  }
 },
 "nbformat": 4,
 "nbformat_minor": 4
}