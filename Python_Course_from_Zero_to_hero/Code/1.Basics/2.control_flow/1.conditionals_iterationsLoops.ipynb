{
 "cells": [
  {
   "cell_type": "code",
   "execution_count": 8,
   "metadata": {},
   "outputs": [
    {
     "output_type": "stream",
     "name": "stdout",
     "text": "result is equal to 5\n"
    }
   ],
   "source": [
    "# if elif else statements\n",
    "\n",
    "result = 5\n",
    "\n",
    "if result<2 :\n",
    "\n",
    "    print('it < 2')\n",
    "\n",
    "elif result ==5 :\n",
    "\n",
    "    print('result is equal to 5')\n",
    "\n",
    "else :\n",
    "\n",
    "    print('result is bigger than 2')"
   ]
  },
  {
   "cell_type": "code",
   "execution_count": 31,
   "metadata": {},
   "outputs": [
    {
     "output_type": "stream",
     "name": "stdout",
     "text": "indice:0 => valor:1 \nindice:1 => valor:2 \nindice:2 => valor:3 \nindice:3 => valor:4 \nindice:4 => valor:5 \nindice:5 => valor:6 \nindice:6 => valor:7 \nindice:7 => valor:8 \nindice:8 => valor:9 \nindice:9 => valor:10 \n"
    }
   ],
   "source": [
    "# for loops\n",
    "\n",
    "\n",
    "\n",
    "\n",
    "myList = [1,2,3,4,5,6,7,8,9,10]\n",
    "\n",
    "for (indice,valor) in enumerate(myList):\n",
    "  print(f'indice:{indice} => valor:{valor} ')"
   ]
  },
  {
   "cell_type": "code",
   "execution_count": 35,
   "metadata": {},
   "outputs": [
    {
     "output_type": "stream",
     "name": "stdout",
     "text": "\n1 - 2\n3 - 4\n5 - 6\n7 - 8\n9 - 10\n"
    }
   ],
   "source": [
    "\n",
    "\n",
    "#for item in t:\n",
    " #   print(f'{item} - ', end='')\n",
    "\n",
    "\n",
    "#for index in range(0, len(t)):\n",
    "\n",
    "  #  for index2 in range(0, len(t[index])):\n",
    "\n",
    " #      print(f'{t[index][index2]} - ', end='')\n",
    "\n",
    "#    print('  ')\n",
    "\n",
    "print('')\n",
    "\n",
    "t = [(1,2),(3,4),(5,6),(7,8),(9,10)]\n",
    "\n",
    "for (a,b) in t:\n",
    "    print(f'{a} - {b}')"
   ]
  },
  {
   "cell_type": "code",
   "execution_count": 52,
   "metadata": {},
   "outputs": [
    {
     "output_type": "stream",
     "name": "stdout",
     "text": "0 - D\n1 - a\n2 - v\n3 - i\n4 - d\n"
    }
   ],
   "source": [
    "myList = [1,2,3]\n",
    "\n",
    "for x,y in enumerate('David'):\n",
    "    print(f'{x} - {y}')"
   ]
  },
  {
   "cell_type": "code",
   "execution_count": 37,
   "metadata": {},
   "outputs": [
    {
     "output_type": "stream",
     "name": "stdout",
     "text": "0 - [1, 2, 3]\n1 - [4, 5, 6]\n"
    }
   ],
   "source": [
    "list_of_list = [[1,2,3],[4,5,6]]\n",
    "\n",
    "for a,b in enumerate(list_of_list):\n",
    "    print(f'{a} - {b}')"
   ]
  },
  {
   "cell_type": "code",
   "execution_count": 39,
   "metadata": {},
   "outputs": [
    {
     "output_type": "stream",
     "name": "stdout",
     "text": "k1 - 1  k2 - 2  k3 - 3"
    }
   ],
   "source": [
    "# ierate a dictionary\n",
    "\n",
    "d = {\"k1\":1, \"k2\":2, \"k3\":3}\n",
    "\n",
    "for key,value in d.items():\n",
    "    print(f' {key} - {value} ', end='') "
   ]
  },
  {
   "cell_type": "code",
   "execution_count": 40,
   "metadata": {},
   "outputs": [
    {
     "output_type": "stream",
     "name": "stdout",
     "text": "1  2  3"
    }
   ],
   "source": [
    "\n",
    "d = {\"k1\":1, \"k2\":2, \"k3\":3}\n",
    "\n",
    "for value in d.values():\n",
    "    print(f' {value} ', end='') "
   ]
  },
  {
   "cell_type": "code",
   "execution_count": 2,
   "metadata": {},
   "outputs": [
    {
     "output_type": "stream",
     "name": "stdout",
     "text": "0  1  2  3  4  \nX no es menor q 5\n"
    }
   ],
   "source": [
    "# while loops\n",
    "x = 0\n",
    "\n",
    "while x<5:\n",
    "    print(f' {x} ', end='')\n",
    "    x+=1\n",
    "else:\n",
    "    print(f' \\nX no es menor q 5')"
   ]
  },
  {
   "cell_type": "code",
   "execution_count": 2,
   "metadata": {},
   "outputs": [
    {
     "output_type": "stream",
     "name": "stdout",
     "text": "ya puede continuar el script\n"
    }
   ],
   "source": [
    "# important keywords in loops - break - continue - pass\n",
    "\n",
    "x = [1,2,3]\n",
    "\n",
    "for item in x:\n",
    "    # comment\n",
    "    pass\n",
    "print('ya puede continuar el script')"
   ]
  }
 ],
 "metadata": {
  "language_info": {
   "name": "python",
   "codemirror_mode": {
    "name": "ipython",
    "version": 3
   },
   "version": "3.7.6-final"
  },
  "orig_nbformat": 2,
  "file_extension": ".py",
  "mimetype": "text/x-python",
  "name": "python",
  "npconvert_exporter": "python",
  "pygments_lexer": "ipython3",
  "version": 3,
  "kernelspec": {
   "name": "python3",
   "display_name": "Python 3"
  }
 },
 "nbformat": 4,
 "nbformat_minor": 2
}