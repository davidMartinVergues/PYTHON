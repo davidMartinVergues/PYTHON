{
 "nbformat": 4,
 "nbformat_minor": 2,
 "metadata": {
  "language_info": {
   "name": "python",
   "codemirror_mode": {
    "name": "ipython",
    "version": 3
   },
   "version": "3.7.6-final"
  },
  "orig_nbformat": 2,
  "file_extension": ".py",
  "mimetype": "text/x-python",
  "name": "python",
  "npconvert_exporter": "python",
  "pygments_lexer": "ipython3",
  "version": 3,
  "kernelspec": {
   "name": "python3",
   "display_name": "Python 3"
  }
 },
 "cells": [
  {
   "cell_type": "code",
   "execution_count": 5,
   "metadata": {},
   "outputs": [
    {
     "output_type": "execute_result",
     "data": {
      "text/plain": "'a'"
     },
     "metadata": {},
     "execution_count": 5
    }
   ],
   "source": [
    "my_name = \"david\"\n",
    "\n",
    "my_name[0]"
   ]
  },
  {
   "cell_type": "code",
   "execution_count": 6,
   "metadata": {},
   "outputs": [
    {
     "output_type": "execute_result",
     "data": {
      "text/plain": "'a'"
     },
     "metadata": {},
     "execution_count": 6
    }
   ],
   "source": [
    "my_name[1]"
   ]
  },
  {
   "cell_type": "code",
   "execution_count": 17,
   "metadata": {},
   "outputs": [
    {
     "output_type": "stream",
     "name": "stdout",
     "text": "utilizando la función len() d\nutilizando el indice reverso d\n"
    }
   ],
   "source": [
    "# len() function\n",
    "\n",
    "print('utilizando la función len() => '+my_name[len(my_name)-1]) # última letra sin saber la liongitud del str\n",
    "# Reverse index\n",
    "print('utilizando el indice reverso => '+my_name[-1])\n"
   ]
  },
  {
   "cell_type": "code",
   "execution_count": 13,
   "metadata": {},
   "outputs": [
    {
     "output_type": "stream",
     "name": "stdout",
     "text": "substring desde el índice 0 hasta el final                    => abcdefghijk\n substring desde el índice 2 hasta el final                   =>   cdefghijk\n substring desde el índice 0 hasta el índice 3 (NO incluido)) => abc\n substring desde el índice 2 hasta al 5(No incluido)          =>   cde\n substring dividido en grupos de a 2                          => acegik\n substring dividido en grupos de a 3                          => adgj\n substring  del 2 al 5 dividido en grupos de a 2               => ce\n"
    }
   ],
   "source": [
    "# splicing [start:stop:step]\n",
    "\n",
    "my_string = \"abcdefghijk\"\n",
    "\n",
    "print(' substring desde el índice 0 hasta el final                    => '+my_string[:])\n",
    "print(' substring desde el índice 2 hasta el final                   =>   '+my_string[2:])\n",
    "print(' substring desde el índice 0 hasta el índice 3 (NO incluido)) => '+my_string[:3])\n",
    "print(' substring desde el índice 2 hasta al 5(No incluido)          =>   '+my_string[2:5])\n",
    "\n",
    "# uso del tercer parámetro, divide en str en grupos de X carcateres y nos devuelve el primer caracter de cada grupo\n",
    "# por ejemplo si ponemos 2 hace                                         ab - cd - ef - gh - ij - k null\n",
    "print(' substring dividido en grupos de a 2                          => '+my_string[::2])\n",
    "# por ejemplo si ponemos 3 hace                                         abc - def - ghi - jk null\n",
    "print(' substring dividido en grupos de a 3                          => '+my_string[::3])\n",
    "# lo mismo pero de un subString                                          cd - ef\n",
    "print(' substring  del 2 al 5 dividido en grupos de a 2               => '+my_string[2:6:2])\n",
    "\n",
    "\n",
    "\n",
    "\n"
   ]
  },
  {
   "cell_type": "code",
   "execution_count": null,
   "metadata": {},
   "outputs": [],
   "source": []
  }
 ]
}