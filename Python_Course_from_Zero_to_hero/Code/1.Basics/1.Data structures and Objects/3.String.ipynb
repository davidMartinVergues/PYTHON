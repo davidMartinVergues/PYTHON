{
 "nbformat": 4,
 "nbformat_minor": 2,
 "metadata": {
  "language_info": {
   "name": "python",
   "codemirror_mode": {
    "name": "ipython",
    "version": 3
   },
   "version": "3.7.6-final"
  },
  "orig_nbformat": 2,
  "file_extension": ".py",
  "mimetype": "text/x-python",
  "name": "python",
  "npconvert_exporter": "python",
  "pygments_lexer": "ipython3",
  "version": 3,
  "kernelspec": {
   "name": "python3",
   "display_name": "Python 3"
  }
 },
 "cells": [
  {
   "cell_type": "code",
   "execution_count": 15,
   "metadata": {},
   "outputs": [
    {
     "output_type": "execute_result",
     "data": {
      "text/plain": "'d'"
     },
     "metadata": {},
     "execution_count": 15
    }
   ],
   "source": [
    "my_name = \"david\"\n",
    "\n",
    "my_name[0]"
   ]
  },
  {
   "cell_type": "code",
   "execution_count": 16,
   "metadata": {},
   "outputs": [
    {
     "output_type": "execute_result",
     "data": {
      "text/plain": "'a'"
     },
     "metadata": {},
     "execution_count": 16
    }
   ],
   "source": [
    "my_name[1]"
   ]
  },
  {
   "cell_type": "code",
   "execution_count": 17,
   "metadata": {},
   "outputs": [
    {
     "output_type": "stream",
     "name": "stdout",
     "text": "utilizando la función len() => d\nutilizando el indice reverso => d\n"
    }
   ],
   "source": [
    "# len() function\n",
    "\n",
    "print('utilizando la función len() => '+my_name[len(my_name)-1]) # última letra sin saber la longitud del str\n",
    "# Reverse index\n",
    "print('utilizando el indice reverso => '+my_name[-1])\n"
   ]
  },
  {
   "cell_type": "code",
   "execution_count": 23,
   "metadata": {},
   "outputs": [
    {
     "output_type": "stream",
     "name": "stdout",
     "text": "substring desde el índice 0 hasta el final [::]              => abcdefghijk\n substring desde el índice 2 hasta el final                   =>   cdefghijk\n substring desde el índice 0 hasta el índice 3 (NO incluido)) => abc\n substring desde el índice 2 hasta al 5(No incluido)          =>   cde\n substring dividido en grupos de a 2                          => acegik\n substring dividido en grupos de a 3                          => adgj\n substring  del 2 al 5 dividido en grupos de a 2               => ce\nseparador de grupo en - empieza por el final(INVIERTE EL STRING) => kjihgfedcba\n usando el separador de grupo en - empieza a contar por el final=> kigeca\n"
    }
   ],
   "source": [
    "# splicing [start:stop:step]\n",
    "\n",
    "my_string = \"abcdefghijk\"\n",
    "\n",
    "print(' substring desde el índice 0 hasta el final [::]              => '+my_string[::])\n",
    "print(' substring desde el índice 2 hasta el final                   =>   '+my_string[2:])\n",
    "print(' substring desde el índice 0 hasta el índice 3 (NO incluido)) => '+my_string[:3])\n",
    "print(' substring desde el índice 2 hasta al 5(No incluido)          =>   '+my_string[2:5])\n",
    "\n",
    "# uso del tercer parámetro, divide en str en grupos de X carcateres y nos devuelve el primer caracter de cada grupo\n",
    "# por ejemplo si ponemos 2 hace                                         ab - cd - ef - gh - ij - k null\n",
    "print(' substring dividido en grupos de a 2                          => '+my_string[::2])\n",
    "# por ejemplo si ponemos 3 hace                                         abc - def - ghi - jk null\n",
    "print(' substring dividido en grupos de a 3                          => '+my_string[::3])\n",
    "# lo mismo pero de un subString                                          cd - ef\n",
    "print(' substring  del 2 al 5 dividido en grupos de a 2               => '+my_string[2:6:2])\n",
    "# utilizando el 3 como negativo -1  invierte el string                    kjihgfedcba\n",
    "print('separador de grupo en - empieza por el final(INVIERTE EL STRING) => '+my_string[::-1])\n",
    "# utilizando el 3 como negativo -1                                        Ab - Cd - Ef - Gh - Ij - K null <- \n",
    "print(' usando el separador de grupo en - empieza a contar por el final=> '+my_string[::-2])\n",
    "\n",
    "\n",
    "\n",
    "\n"
   ]
  },
  {
   "cell_type": "code",
   "execution_count": 26,
   "metadata": {},
   "outputs": [
    {
     "output_type": "error",
     "ename": "TypeError",
     "evalue": "'str' object does not support item assignment",
     "traceback": [
      "\u001b[0;31m---------------------------------------------------------------------------\u001b[0m",
      "\u001b[0;31mTypeError\u001b[0m                                 Traceback (most recent call last)",
      "\u001b[0;32m<ipython-input-26-44ba95f9caf6>\u001b[0m in \u001b[0;36m<module>\u001b[0;34m\u001b[0m\n\u001b[1;32m      2\u001b[0m \u001b[0;34m\u001b[0m\u001b[0m\n\u001b[1;32m      3\u001b[0m \u001b[0mname\u001b[0m \u001b[0;34m=\u001b[0m \u001b[0;34m'David'\u001b[0m\u001b[0;34m\u001b[0m\u001b[0;34m\u001b[0m\u001b[0m\n\u001b[0;32m----> 4\u001b[0;31m \u001b[0mname\u001b[0m\u001b[0;34m[\u001b[0m\u001b[0;36m0\u001b[0m\u001b[0;34m]\u001b[0m\u001b[0;34m=\u001b[0m \u001b[0;34m'P'\u001b[0m\u001b[0;34m\u001b[0m\u001b[0;34m\u001b[0m\u001b[0m\n\u001b[0m",
      "\u001b[0;31mTypeError\u001b[0m: 'str' object does not support item assignment"
     ]
    }
   ],
   "source": [
    "# Strinig properties and immutability\n",
    "\n",
    "name = 'David'\n",
    "name[0]= 'P'"
   ]
  },
  {
   "cell_type": "code",
   "execution_count": 31,
   "metadata": {},
   "outputs": [
    {
     "output_type": "stream",
     "name": "stdout",
     "text": "hello world is beatifull outside\n"
    },
    {
     "output_type": "execute_result",
     "data": {
      "text/plain": "'Pavid'"
     },
     "metadata": {},
     "execution_count": 31
    }
   ],
   "source": [
    "\n",
    "x = \"hello world\"\n",
    "\n",
    "y = ' is beatifull outside'\n",
    "\n",
    "\n",
    "\n",
    "x+= y\n",
    "print(x)\n",
    "\n",
    "name = 'David'\n",
    "\n",
    "name = 'P'+ name[1:]\n",
    "name"
   ]
  },
  {
   "cell_type": "code",
   "execution_count": 33,
   "metadata": {},
   "outputs": [
    {
     "output_type": "execute_result",
     "data": {
      "text/plain": "'dddddddddd'"
     },
     "metadata": {},
     "execution_count": 33
    }
   ],
   "source": [
    "\n",
    "name = 'd'\n",
    "\n",
    "name*10\n",
    "\n",
    "name."
   ]
  },
  {
   "cell_type": "code",
   "execution_count": 34,
   "metadata": {},
   "outputs": [
    {
     "output_type": "execute_result",
     "data": {
      "text/plain": "'HELLO WORLD'"
     },
     "metadata": {},
     "execution_count": 34
    }
   ],
   "source": [
    "x = 'hello world'\n",
    "\n",
    "x.upper()"
   ]
  },
  {
   "cell_type": "code",
   "execution_count": 38,
   "metadata": {},
   "outputs": [
    {
     "output_type": "stream",
     "name": "stdout",
     "text": "HI THIS IS A STRING\nhi this is a string\n['hi', 'this', 'is', 'a', 'string']\n['h', ' th', 's ', 's a str', 'ng']\n"
    }
   ],
   "source": [
    "# métodos en str\n",
    "\n",
    "x = \"hi this is a string\"\n",
    "\n",
    "print(x.upper())\n",
    "print(x.lower())\n",
    "print(x.split())\n",
    "print(x.split('i'))\n",
    "\n",
    ""
   ]
  },
  {
   "cell_type": "code",
   "execution_count": 44,
   "metadata": {},
   "outputs": [
    {
     "output_type": "stream",
     "name": "stdout",
     "text": "hello world\nme llamo David Martin Vergues\nme llamo Vergues Martín, David\nalineación: izq                 centro                drcha\nalineación: izq============ ----centro----- ..........drcha\nme llamo Vergues Martín, David\nme llamo Vergues Martin, David y tengo 35\nme llamo Dav \n"
    }
   ],
   "source": [
    "# .format() method\n",
    "\n",
    "print('hello {}'.format('world')) #hello world\n",
    "\n",
    "name= 'David'\n",
    "apellido1 = 'Martin'\n",
    "apellido2 = 'Vergues'\n",
    "\n",
    "print('me llamo {} {} {}'.format('David', 'Martin', 'Vergues')) #me llamo David Martin Vergues\n",
    "\n",
    "print('me llamo {2} {1}, {0}'.format('David', 'Martín', 'Vergues'))#me llamo Vergues Martín, David\n",
    "#podemos especificar el número de caracteres q ocupara cada string y si cómo estará alineado \n",
    "print('alineación: {0:<15} {1:^15} {2:>15}'.format('izq', 'centro', 'drcha')) # izq                 centro                drcha\n",
    "print('alineación: {0:=<15} {1:-^15} {2:.>15}'.format('izq', 'centro', 'drcha')) # alineación: izq============ ----centro----- ..........drcha\n",
    "#podemos usar keyword\n",
    "print('me llamo {v} {m}, {d}'.format(d='David', m='Martín', v='Vergues'))#me llamo Vergues Martín, David\n",
    "#podemos usar referencias a variables\n",
    "print('me llamo {2} {1}, {0} y tengo {3}'.format(name,apellido1,apellido2, '35'))#me llamo Vergues Martin, David y tengo 35\n",
    "#podemos truncar los strings con la notación del punto\n",
    "print('me llamo {0:.3} '.format(name)) #me llamo Dav \n"
   ]
  },
  {
   "cell_type": "code",
   "execution_count": 11,
   "metadata": {},
   "outputs": [
    {
     "output_type": "stream",
     "name": "stdout",
     "text": "mi valor es 104.123\nmi valor es    104.123\n"
    }
   ],
   "source": [
    "# Float formatting {value:width.precision f}\n",
    "\n",
    "result = 104.12345\n",
    "\n",
    "result # 1.2987012987012987\n",
    "\n",
    "print('mi valor es {r:1.3f}'.format(r=result)) #   mi valor es 1.299\n",
    "print('mi valor es {r:10.3f}'.format(r=result)) #  mi valor es      1.299\n"
   ]
  },
  {
   "cell_type": "code",
   "execution_count": 35,
   "metadata": {},
   "outputs": [
    {
     "output_type": "stream",
     "name": "stdout",
     "text": "hello, his name is David and he is 3 years old\neste es mi resultado => 1.46\neste es mi resultado => 1.4500\neste es mi resultado => 1.45      \neste es mi resultado =>    1.45   \n"
    }
   ],
   "source": [
    "# f string = formated string literal\n",
    "\n",
    "name = \"David\"\n",
    "age = 3\n",
    "print(f'hello, his name is {name} and he is {age} years old') # hello, his name is David and he is 3 years old\n",
    "\n",
    "\n",
    "result = 1.459029\n",
    "result2 = 1.45\n",
    "\n",
    "print(f'este es mi resultado => {result:1.2f}') # este es mi resultado => 1.46\n",
    "print(f'este es mi resultado => {result2:1.4f}') # con notación de .format() este es mi resultado => 1.4500\n",
    "\n",
    "print(f'este es mi resultado => {result2:<{10}.{3}}') # con notación de f-string este es mi resultado =>  1.45\n",
    "print(f'este es mi resultado => {result2:^{10}.{3}}') # con notación de f-string este es mi resultado =>    1.45   "
   ]
  },
  {
   "cell_type": "code",
   "execution_count": null,
   "metadata": {},
   "outputs": [],
   "source": []
  }
 ]
}