{
 "cells": [
  {
   "cell_type": "code",
   "execution_count": 26,
   "metadata": {},
   "outputs": [
    {
     "data": {
      "text/plain": [
       "['string', 100, 20.3, 1, 2, 3, 'string', 100, 20.3, 1, 2, 3]"
      ]
     },
     "execution_count": 26,
     "metadata": {},
     "output_type": "execute_result"
    }
   ],
   "source": [
    "# LIST\n",
    "\n",
    "my_List = []\n",
    "\n",
    "my_List = ['string', 100, 20.3,1,2,3]\n",
    "\n",
    "# len() \n",
    "len(my_List)\n",
    "\n",
    "#[start:stop:step]\n",
    "my_List[-1]     # 3\n",
    "my_List[4:]     #  [2, 3]\n",
    "my_List[:3]     #  ['string', 100, 20.3]\n",
    "my_List[::2]    #  ['string', 20.3, 2]\n",
    "my_List*2       # ['string', 100, 20.3, 1, 2, 3, 'string', 100, 20.3, 1, 2, 3]\n"
   ]
  },
  {
   "cell_type": "code",
   "execution_count": 34,
   "metadata": {},
   "outputs": [
    {
     "data": {
      "text/plain": [
       "[1, 2, 3, 4, 5, 6, 7, 8, 9, 10]"
      ]
     },
     "execution_count": 34,
     "metadata": {},
     "output_type": "execute_result"
    }
   ],
   "source": [
    "\n",
    "my_list_1 = [1,2,3,4,5]\n",
    "my_list_2 = [6,7,8,9,10]\n",
    "\n",
    "my_list_1+=my_list_2\n",
    "\n",
    "my_list_2 # [6, 7, 8, 9, 10]\n",
    "my_list_1 # [1, 2, 3, 4, 5, 6, 7, 8, 9, 10]"
   ]
  },
  {
   "cell_type": "code",
   "execution_count": 44,
   "metadata": {},
   "outputs": [
    {
     "data": {
      "text/plain": [
       "['two', 'three', 'four', 'five', 'six']"
      ]
     },
     "execution_count": 44,
     "metadata": {},
     "output_type": "execute_result"
    }
   ],
   "source": [
    "my_list = ['one', 'two','three','four','five','six']\n",
    "\n",
    "my_list.append('eight')\n",
    "\n",
    "my_list # ['one', 'two', 'three', 'four', 'five', 'six', 'eight']\n",
    "\n",
    "element_deleted = my_list.pop()\n",
    "\n",
    "element_deleted # 'eight'\n",
    "\n",
    "my_list # ['one', 'two', 'three', 'four', 'five', 'six']\n",
    "\n",
    "my_list.pop(0) # 'one'\n",
    "my_list         # ['two', 'three', 'four', 'five', 'six']\n",
    "\n",
    "\n",
    "\n"
   ]
  },
  {
   "cell_type": "code",
   "execution_count": 50,
   "metadata": {},
   "outputs": [
    {
     "name": "stdout",
     "output_type": "stream",
     "text": [
      "['a', 'b', 'c', 'd', 'e', 'f']\n",
      "[0, 1, 4, 2, 10]\n"
     ]
    }
   ],
   "source": [
    "char_list = ['a','d','c','e','f','b']\n",
    "num_list = [10,2,4,1,0]\n",
    "\n",
    "char_list.sort() \n",
    "num_list.reverse()\n",
    "\n",
    "print(char_list) # ['a', 'b', 'c', 'd', 'e', 'f']\n",
    "print(num_list)  # [0, 1, 4, 2, 10]"
   ]
  },
  {
   "cell_type": "code",
   "execution_count": null,
   "metadata": {},
   "outputs": [],
   "source": []
  }
 ],
 "metadata": {
  "file_extension": ".py",
  "kernelspec": {
   "display_name": "Python 3",
   "language": "python",
   "name": "python3"
  },
  "language_info": {
   "codemirror_mode": {
    "name": "ipython",
    "version": 3
   },
   "file_extension": ".py",
   "mimetype": "text/x-python",
   "name": "python",
   "nbconvert_exporter": "python",
   "pygments_lexer": "ipython3",
   "version": "3.7.6"
  },
  "mimetype": "text/x-python",
  "name": "python",
  "npconvert_exporter": "python",
  "pygments_lexer": "ipython3",
  "version": 3
 },
 "nbformat": 4,
 "nbformat_minor": 2
}
