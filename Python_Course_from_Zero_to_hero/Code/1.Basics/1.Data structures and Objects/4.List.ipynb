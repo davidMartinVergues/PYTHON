{
 "nbformat": 4,
 "nbformat_minor": 2,
 "metadata": {
  "language_info": {
   "name": "python",
   "codemirror_mode": {
    "name": "ipython",
    "version": 3
   },
   "version": "3.7.6-final"
  },
  "orig_nbformat": 2,
  "file_extension": ".py",
  "mimetype": "text/x-python",
  "name": "python",
  "npconvert_exporter": "python",
  "pygments_lexer": "ipython3",
  "version": 3,
  "kernelspec": {
   "name": "python3",
   "display_name": "Python 3"
  }
 },
 "cells": [
  {
   "cell_type": "code",
   "execution_count": 26,
   "metadata": {},
   "outputs": [
    {
     "output_type": "execute_result",
     "data": {
      "text/plain": "['string', 100, 20.3, 1, 2, 3, 'string', 100, 20.3, 1, 2, 3]"
     },
     "metadata": {},
     "execution_count": 26
    }
   ],
   "source": [
    "# LIST\n",
    "\n",
    "my_List = []\n",
    "\n",
    "my_List = ['string', 100, 20.3,1,2,3]\n",
    "\n",
    "# len() \n",
    "len(my_List)\n",
    "\n",
    "#[start:stop:step]\n",
    "my_List[-1]     # 3\n",
    "my_List[4:]     #  [2, 3]\n",
    "my_List[:3]     #  ['string', 100, 20.3]\n",
    "my_List[::2]    #  ['string', 20.3, 2]\n",
    "my_List*2       # ['string', 100, 20.3, 1, 2, 3, 'string', 100, 20.3, 1, 2, 3]\n"
   ]
  },
  {
   "cell_type": "code",
   "execution_count": 34,
   "metadata": {},
   "outputs": [
    {
     "output_type": "execute_result",
     "data": {
      "text/plain": "[1, 2, 3, 4, 5, 6, 7, 8, 9, 10]"
     },
     "metadata": {},
     "execution_count": 34
    }
   ],
   "source": [
    "\n",
    "my_list_1 = [1,2,3,4,5]\n",
    "my_list_2 = [6,7,8,9,10]\n",
    "\n",
    "my_list_1+=my_list_2\n",
    "\n",
    "my_list_2 # [6, 7, 8, 9, 10]\n",
    "my_list_1 # [1, 2, 3, 4, 5, 6, 7, 8, 9, 10]"
   ]
  },
  {
   "cell_type": "code",
   "execution_count": 44,
   "metadata": {},
   "outputs": [
    {
     "output_type": "execute_result",
     "data": {
      "text/plain": "['two', 'three', 'four', 'five', 'six']"
     },
     "metadata": {},
     "execution_count": 44
    }
   ],
   "source": [
    "my_list = ['one', 'two','three','four','five','six']\n",
    "\n",
    "my_list.append('eight')\n",
    "\n",
    "my_list # ['one', 'two', 'three', 'four', 'five', 'six', 'eight']\n",
    "\n",
    "element_deleted = my_list.pop()\n",
    "\n",
    "element_deleted # 'eight'\n",
    "\n",
    "my_list # ['one', 'two', 'three', 'four', 'five', 'six']\n",
    "\n",
    "my_list.pop(0) # 'one'\n",
    "my_list         # ['two', 'three', 'four', 'five', 'six']\n",
    "\n",
    "\n",
    "\n"
   ]
  },
  {
   "cell_type": "code",
   "execution_count": 50,
   "metadata": {},
   "outputs": [
    {
     "output_type": "stream",
     "name": "stdout",
     "text": "['a', 'b', 'c', 'd', 'e', 'f']\n[0, 1, 4, 2, 10]\n"
    }
   ],
   "source": [
    "char_list = ['a','d','c','e','f','b']\n",
    "num_list = [10,2,4,1,0]\n",
    "\n",
    "char_list.sort() \n",
    "num_list.reverse()\n",
    "\n",
    "print(char_list) # ['a', 'b', 'c', 'd', 'e', 'f']\n",
    "print(num_list)  # [0, 1, 4, 2, 10]"
   ]
  },
  {
   "cell_type": "code",
   "execution_count": null,
   "metadata": {},
   "outputs": [],
   "source": []
  }
 ]
}