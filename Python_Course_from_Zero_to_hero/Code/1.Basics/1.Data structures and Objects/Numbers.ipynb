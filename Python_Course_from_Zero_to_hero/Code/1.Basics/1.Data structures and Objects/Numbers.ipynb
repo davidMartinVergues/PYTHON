{
 "nbformat": 4,
 "nbformat_minor": 2,
 "metadata": {
  "language_info": {
   "name": "python",
   "codemirror_mode": {
    "name": "ipython",
    "version": 3
   },
   "version": "3.7.6-final"
  },
  "orig_nbformat": 2,
  "file_extension": ".py",
  "mimetype": "text/x-python",
  "name": "python",
  "npconvert_exporter": "python",
  "pygments_lexer": "ipython3",
  "version": 3,
  "kernelspec": {
   "name": "python3",
   "display_name": "Python 3"
  }
 },
 "cells": [
  {
   "cell_type": "code",
   "execution_count": 2,
   "metadata": {},
   "outputs": [
    {
     "output_type": "stream",
     "name": "stdout",
     "text": "3\n"
    }
   ],
   "source": [
    "# Basics Math\n",
    "print(2+1)"
   ]
  },
  {
   "cell_type": "code",
   "execution_count": 3,
   "metadata": {},
   "outputs": [
    {
     "output_type": "stream",
     "name": "stdout",
     "text": "8\n"
    }
   ],
   "source": [
    "\n",
    "# powers (exponentes)\n",
    "\n",
    "print(2**3)"
   ]
  },
  {
   "cell_type": "code",
   "execution_count": 4,
   "metadata": {},
   "outputs": [
    {
     "output_type": "stream",
     "name": "stdout",
     "text": "1.556\n"
    }
   ],
   "source": [
    "print(round(1.55559, 3))  # redondeamos a 3 decimales"
   ]
  },
  {
   "cell_type": "code",
   "execution_count": 7,
   "metadata": {},
   "outputs": [
    {
     "output_type": "stream",
     "name": "stdout",
     "text": "2.675 es almacenado el pc como =>2.67499999999999982236431605997495353221893310546875\npor eso al redondear da 2.675 3\n0.1 es almacenado el pc como =>0.1000000000000000055511151231257827021181583404541015625\n"
    }
   ],
   "source": [
    "\n",
    "# con el módulo deciaml vemos el número real q almacena el pc\n",
    "\n",
    "from decimal import Decimal\n",
    "\n",
    "print(\"2.675 es almacenado el pc como =>\" + str(Decimal(2.675)))\n",
    "\n",
    "print('por eso al redondear (round) da 2.675 '+ str(round(2.675)))\n",
    "\n",
    "print('0.1 es almacenado x el pc como =>'+str(Decimal(0.1)))"
   ]
  },
  {
   "cell_type": "code",
   "execution_count": 11,
   "metadata": {},
   "outputs": [
    {
     "output_type": "stream",
     "name": "stdout",
     "text": "0\n1\n2\n3\n4\n5\n6\n7\n8\n9\nresultado de sum después del bucle 0.9999999999999999\n"
    }
   ],
   "source": [
    "# bucles\n",
    "\n",
    "sum = 0.0\n",
    "\n",
    "for i in range(10):\n",
    "    print(i +' -> '+ sum)\n",
    "    sum += 0.1\n",
    "\n",
    "print('resultado de sum después del bucle '+str(sum))"
   ]
  },
  {
   "cell_type": "code",
   "execution_count": null,
   "metadata": {},
   "outputs": [],
   "source": []
  }
 ]
}